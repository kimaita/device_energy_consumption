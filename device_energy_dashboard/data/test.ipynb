{
 "cells": [
  {
   "cell_type": "code",
   "execution_count": 1,
   "metadata": {},
   "outputs": [],
   "source": [
    "from decimal import Decimal \n",
    "import pandas as pd"
   ]
  },
  {
   "cell_type": "code",
   "execution_count": 2,
   "metadata": {},
   "outputs": [
    {
     "data": {
      "text/plain": [
       "'2.1.4'"
      ]
     },
     "execution_count": 2,
     "metadata": {},
     "output_type": "execute_result"
    }
   ],
   "source": [
    "pd.__version__"
   ]
  },
  {
   "cell_type": "code",
   "execution_count": 3,
   "metadata": {},
   "outputs": [],
   "source": [
    "dt = [{'readings': {'power': Decimal('2'), 'reading_time': Decimal('1705183578'), 'rms_current': Decimal('0.010568359'), 'watt_hours': Decimal('105')}, 'device_id': 'acs_000', 'sample_time': Decimal('1705172778893')}, {'readings': {'power': Decimal('2'), 'reading_time': Decimal('1705183428'), 'rms_current': Decimal('0.010568359'), 'watt_hours': Decimal('0')}, 'device_id': 'acs_000', 'sample_time': Decimal('1705172628968')}, {'readings': {'power': Decimal('5'), 'reading_time': Decimal('1705180448'), 'rms_current': Decimal('0.021960449'), 'watt_hours': Decimal('54')}, 'device_id': 'acs_000', \n",
    "'sample_time': Decimal('1705169648931')}, {'readings': {'power': Decimal('5'), 'reading_time': Decimal('1705183951'), 'rms_current': Decimal('0.021960449'), 'watt_hours': Decimal('1351')}, 'device_id': 'acs_000', 'sample_time': Decimal('1705173152037')}, {'readings': {'power': Decimal('5'), 'reading_time': Decimal('1705180390'), 'rms_current': Decimal('0.021960449'), 'watt_hours': Decimal('5')}, 'device_id': 'acs_000', 'sample_time': Decimal('1705169591578')}]"
   ]
  },
  {
   "cell_type": "code",
   "execution_count": 4,
   "metadata": {},
   "outputs": [
    {
     "data": {
      "text/plain": [
       "list"
      ]
     },
     "execution_count": 4,
     "metadata": {},
     "output_type": "execute_result"
    }
   ],
   "source": [
    "type(dt)"
   ]
  },
  {
   "cell_type": "code",
   "execution_count": 5,
   "metadata": {},
   "outputs": [
    {
     "data": {
      "text/html": [
       "<div>\n",
       "<style scoped>\n",
       "    .dataframe tbody tr th:only-of-type {\n",
       "        vertical-align: middle;\n",
       "    }\n",
       "\n",
       "    .dataframe tbody tr th {\n",
       "        vertical-align: top;\n",
       "    }\n",
       "\n",
       "    .dataframe thead th {\n",
       "        text-align: right;\n",
       "    }\n",
       "</style>\n",
       "<table border=\"1\" class=\"dataframe\">\n",
       "  <thead>\n",
       "    <tr style=\"text-align: right;\">\n",
       "      <th></th>\n",
       "      <th>readings</th>\n",
       "      <th>device_id</th>\n",
       "      <th>sample_time</th>\n",
       "    </tr>\n",
       "  </thead>\n",
       "  <tbody>\n",
       "    <tr>\n",
       "      <th>0</th>\n",
       "      <td>{'power': 2, 'reading_time': 1705183578, 'rms_...</td>\n",
       "      <td>acs_000</td>\n",
       "      <td>1705172778893</td>\n",
       "    </tr>\n",
       "    <tr>\n",
       "      <th>1</th>\n",
       "      <td>{'power': 2, 'reading_time': 1705183428, 'rms_...</td>\n",
       "      <td>acs_000</td>\n",
       "      <td>1705172628968</td>\n",
       "    </tr>\n",
       "    <tr>\n",
       "      <th>2</th>\n",
       "      <td>{'power': 5, 'reading_time': 1705180448, 'rms_...</td>\n",
       "      <td>acs_000</td>\n",
       "      <td>1705169648931</td>\n",
       "    </tr>\n",
       "    <tr>\n",
       "      <th>3</th>\n",
       "      <td>{'power': 5, 'reading_time': 1705183951, 'rms_...</td>\n",
       "      <td>acs_000</td>\n",
       "      <td>1705173152037</td>\n",
       "    </tr>\n",
       "    <tr>\n",
       "      <th>4</th>\n",
       "      <td>{'power': 5, 'reading_time': 1705180390, 'rms_...</td>\n",
       "      <td>acs_000</td>\n",
       "      <td>1705169591578</td>\n",
       "    </tr>\n",
       "  </tbody>\n",
       "</table>\n",
       "</div>"
      ],
      "text/plain": [
       "                                            readings device_id    sample_time\n",
       "0  {'power': 2, 'reading_time': 1705183578, 'rms_...   acs_000  1705172778893\n",
       "1  {'power': 2, 'reading_time': 1705183428, 'rms_...   acs_000  1705172628968\n",
       "2  {'power': 5, 'reading_time': 1705180448, 'rms_...   acs_000  1705169648931\n",
       "3  {'power': 5, 'reading_time': 1705183951, 'rms_...   acs_000  1705173152037\n",
       "4  {'power': 5, 'reading_time': 1705180390, 'rms_...   acs_000  1705169591578"
      ]
     },
     "execution_count": 5,
     "metadata": {},
     "output_type": "execute_result"
    }
   ],
   "source": [
    "pd.DataFrame(dt)"
   ]
  },
  {
   "cell_type": "code",
   "execution_count": 6,
   "metadata": {},
   "outputs": [],
   "source": [
    "df = pd.json_normalize(dt)\n"
   ]
  },
  {
   "cell_type": "code",
   "execution_count": 7,
   "metadata": {},
   "outputs": [
    {
     "data": {
      "text/html": [
       "<div>\n",
       "<style scoped>\n",
       "    .dataframe tbody tr th:only-of-type {\n",
       "        vertical-align: middle;\n",
       "    }\n",
       "\n",
       "    .dataframe tbody tr th {\n",
       "        vertical-align: top;\n",
       "    }\n",
       "\n",
       "    .dataframe thead th {\n",
       "        text-align: right;\n",
       "    }\n",
       "</style>\n",
       "<table border=\"1\" class=\"dataframe\">\n",
       "  <thead>\n",
       "    <tr style=\"text-align: right;\">\n",
       "      <th></th>\n",
       "      <th>device_id</th>\n",
       "      <th>sample_time</th>\n",
       "      <th>readings.power</th>\n",
       "      <th>readings.reading_time</th>\n",
       "      <th>readings.rms_current</th>\n",
       "      <th>readings.watt_hours</th>\n",
       "    </tr>\n",
       "  </thead>\n",
       "  <tbody>\n",
       "    <tr>\n",
       "      <th>0</th>\n",
       "      <td>acs_000</td>\n",
       "      <td>1705172778893</td>\n",
       "      <td>2</td>\n",
       "      <td>1705183578</td>\n",
       "      <td>0.010568359</td>\n",
       "      <td>105</td>\n",
       "    </tr>\n",
       "    <tr>\n",
       "      <th>1</th>\n",
       "      <td>acs_000</td>\n",
       "      <td>1705172628968</td>\n",
       "      <td>2</td>\n",
       "      <td>1705183428</td>\n",
       "      <td>0.010568359</td>\n",
       "      <td>0</td>\n",
       "    </tr>\n",
       "    <tr>\n",
       "      <th>2</th>\n",
       "      <td>acs_000</td>\n",
       "      <td>1705169648931</td>\n",
       "      <td>5</td>\n",
       "      <td>1705180448</td>\n",
       "      <td>0.021960449</td>\n",
       "      <td>54</td>\n",
       "    </tr>\n",
       "    <tr>\n",
       "      <th>3</th>\n",
       "      <td>acs_000</td>\n",
       "      <td>1705173152037</td>\n",
       "      <td>5</td>\n",
       "      <td>1705183951</td>\n",
       "      <td>0.021960449</td>\n",
       "      <td>1351</td>\n",
       "    </tr>\n",
       "    <tr>\n",
       "      <th>4</th>\n",
       "      <td>acs_000</td>\n",
       "      <td>1705169591578</td>\n",
       "      <td>5</td>\n",
       "      <td>1705180390</td>\n",
       "      <td>0.021960449</td>\n",
       "      <td>5</td>\n",
       "    </tr>\n",
       "  </tbody>\n",
       "</table>\n",
       "</div>"
      ],
      "text/plain": [
       "  device_id    sample_time readings.power readings.reading_time  \\\n",
       "0   acs_000  1705172778893              2            1705183578   \n",
       "1   acs_000  1705172628968              2            1705183428   \n",
       "2   acs_000  1705169648931              5            1705180448   \n",
       "3   acs_000  1705173152037              5            1705183951   \n",
       "4   acs_000  1705169591578              5            1705180390   \n",
       "\n",
       "  readings.rms_current readings.watt_hours  \n",
       "0          0.010568359                 105  \n",
       "1          0.010568359                   0  \n",
       "2          0.021960449                  54  \n",
       "3          0.021960449                1351  \n",
       "4          0.021960449                   5  "
      ]
     },
     "execution_count": 7,
     "metadata": {},
     "output_type": "execute_result"
    }
   ],
   "source": [
    "df"
   ]
  },
  {
   "cell_type": "code",
   "execution_count": 8,
   "metadata": {},
   "outputs": [
    {
     "data": {
      "text/plain": [
       "Decimal('1515')"
      ]
     },
     "execution_count": 8,
     "metadata": {},
     "output_type": "execute_result"
    }
   ],
   "source": [
    "df.query(\"`readings.reading_time`>=1705180390\")['readings.watt_hours'].sum()"
   ]
  },
  {
   "cell_type": "code",
   "execution_count": 9,
   "metadata": {},
   "outputs": [
    {
     "data": {
      "text/html": [
       "<div>\n",
       "<style scoped>\n",
       "    .dataframe tbody tr th:only-of-type {\n",
       "        vertical-align: middle;\n",
       "    }\n",
       "\n",
       "    .dataframe tbody tr th {\n",
       "        vertical-align: top;\n",
       "    }\n",
       "\n",
       "    .dataframe thead th {\n",
       "        text-align: right;\n",
       "    }\n",
       "</style>\n",
       "<table border=\"1\" class=\"dataframe\">\n",
       "  <thead>\n",
       "    <tr style=\"text-align: right;\">\n",
       "      <th></th>\n",
       "      <th>device_id</th>\n",
       "      <th>sample_time</th>\n",
       "      <th>power</th>\n",
       "      <th>reading_time</th>\n",
       "      <th>rms_current</th>\n",
       "      <th>watt_hours</th>\n",
       "    </tr>\n",
       "  </thead>\n",
       "  <tbody>\n",
       "    <tr>\n",
       "      <th>0</th>\n",
       "      <td>acs_000</td>\n",
       "      <td>1705172778893</td>\n",
       "      <td>2</td>\n",
       "      <td>1705183578</td>\n",
       "      <td>0.010568359</td>\n",
       "      <td>105</td>\n",
       "    </tr>\n",
       "    <tr>\n",
       "      <th>1</th>\n",
       "      <td>acs_000</td>\n",
       "      <td>1705172628968</td>\n",
       "      <td>2</td>\n",
       "      <td>1705183428</td>\n",
       "      <td>0.010568359</td>\n",
       "      <td>0</td>\n",
       "    </tr>\n",
       "    <tr>\n",
       "      <th>2</th>\n",
       "      <td>acs_000</td>\n",
       "      <td>1705169648931</td>\n",
       "      <td>5</td>\n",
       "      <td>1705180448</td>\n",
       "      <td>0.021960449</td>\n",
       "      <td>54</td>\n",
       "    </tr>\n",
       "    <tr>\n",
       "      <th>3</th>\n",
       "      <td>acs_000</td>\n",
       "      <td>1705173152037</td>\n",
       "      <td>5</td>\n",
       "      <td>1705183951</td>\n",
       "      <td>0.021960449</td>\n",
       "      <td>1351</td>\n",
       "    </tr>\n",
       "    <tr>\n",
       "      <th>4</th>\n",
       "      <td>acs_000</td>\n",
       "      <td>1705169591578</td>\n",
       "      <td>5</td>\n",
       "      <td>1705180390</td>\n",
       "      <td>0.021960449</td>\n",
       "      <td>5</td>\n",
       "    </tr>\n",
       "  </tbody>\n",
       "</table>\n",
       "</div>"
      ],
      "text/plain": [
       "  device_id    sample_time power reading_time  rms_current watt_hours\n",
       "0   acs_000  1705172778893     2   1705183578  0.010568359        105\n",
       "1   acs_000  1705172628968     2   1705183428  0.010568359          0\n",
       "2   acs_000  1705169648931     5   1705180448  0.021960449         54\n",
       "3   acs_000  1705173152037     5   1705183951  0.021960449       1351\n",
       "4   acs_000  1705169591578     5   1705180390  0.021960449          5"
      ]
     },
     "execution_count": 9,
     "metadata": {},
     "output_type": "execute_result"
    }
   ],
   "source": [
    "cols= lambda x: x.replace('readings.', '')\n",
    "pd.json_normalize(dt).rename(columns=cols)"
   ]
  }
 ],
 "metadata": {
  "kernelspec": {
   "display_name": ".venv",
   "language": "python",
   "name": "python3"
  },
  "language_info": {
   "codemirror_mode": {
    "name": "ipython",
    "version": 3
   },
   "file_extension": ".py",
   "mimetype": "text/x-python",
   "name": "python",
   "nbconvert_exporter": "python",
   "pygments_lexer": "ipython3",
   "version": "3.11.7"
  }
 },
 "nbformat": 4,
 "nbformat_minor": 2
}
